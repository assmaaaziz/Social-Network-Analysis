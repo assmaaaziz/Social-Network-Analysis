{
 "cells": [
  {
   "cell_type": "code",
   "execution_count": 1,
   "id": "41e293ba-a927-43a7-b153-937b5ee0d4c0",
   "metadata": {},
   "outputs": [],
   "source": [
    "from datascience import *\n",
    "\n",
    "import matplotlib\n",
    "%matplotlib inline\n",
    "import matplotlib.pyplot as plt\n",
    "import numpy as np\n",
    "plt.style.use('fivethirtyeight')\n",
    "\n",
    "import os\n",
    "import networkx as nx\n",
    "import pandas as pd"
   ]
  },
  {
   "cell_type": "code",
   "execution_count": 2,
   "id": "3f6c382d-ad16-43e2-9a89-fb4842333036",
   "metadata": {},
   "outputs": [],
   "source": [
    "#PART A"
   ]
  },
  {
   "cell_type": "code",
   "execution_count": 3,
   "id": "a66e3b5f-e248-400f-a7b1-8455b55fd405",
   "metadata": {},
   "outputs": [
    {
     "data": {
      "text/html": [
       "<div>\n",
       "<style scoped>\n",
       "    .dataframe tbody tr th:only-of-type {\n",
       "        vertical-align: middle;\n",
       "    }\n",
       "\n",
       "    .dataframe tbody tr th {\n",
       "        vertical-align: top;\n",
       "    }\n",
       "\n",
       "    .dataframe thead th {\n",
       "        text-align: right;\n",
       "    }\n",
       "</style>\n",
       "<table border=\"1\" class=\"dataframe\">\n",
       "  <thead>\n",
       "    <tr style=\"text-align: right;\">\n",
       "      <th></th>\n",
       "      <th>#SENDER_ID</th>\n",
       "      <th>RECIPIENT_ID</th>\n",
       "      <th>DATE_FROM</th>\n",
       "      <th>DATE_TO</th>\n",
       "      <th>MS_ID</th>\n",
       "      <th>PLACE_ID</th>\n",
       "      <th>MS_REF</th>\n",
       "    </tr>\n",
       "  </thead>\n",
       "  <tbody>\n",
       "    <tr>\n",
       "      <th>0</th>\n",
       "      <td>10102</td>\n",
       "      <td>18633</td>\n",
       "      <td>0</td>\n",
       "      <td>0</td>\n",
       "      <td>SP_84/63_f.49</td>\n",
       "      <td>0</td>\n",
       "      <td>SP 84/63 f.49</td>\n",
       "    </tr>\n",
       "    <tr>\n",
       "      <th>1</th>\n",
       "      <td>10407</td>\n",
       "      <td>24658</td>\n",
       "      <td>0</td>\n",
       "      <td>0</td>\n",
       "      <td>spo2_imcc-v003-p000_imcc-v003-p000-m0234-cm</td>\n",
       "      <td>3481</td>\n",
       "      <td>SP 63/25 f.55</td>\n",
       "    </tr>\n",
       "    <tr>\n",
       "      <th>2</th>\n",
       "      <td>10575</td>\n",
       "      <td>28163</td>\n",
       "      <td>0</td>\n",
       "      <td>0</td>\n",
       "      <td>Harley_7002_f.241</td>\n",
       "      <td>0</td>\n",
       "      <td>Harley 7002 f.241</td>\n",
       "    </tr>\n",
       "    <tr>\n",
       "      <th>3</th>\n",
       "      <td>10903</td>\n",
       "      <td>20638</td>\n",
       "      <td>0</td>\n",
       "      <td>0</td>\n",
       "      <td>Harley_7002_f.75</td>\n",
       "      <td>0</td>\n",
       "      <td>Harley 7002 f.75</td>\n",
       "    </tr>\n",
       "    <tr>\n",
       "      <th>4</th>\n",
       "      <td>10955</td>\n",
       "      <td>31585</td>\n",
       "      <td>0</td>\n",
       "      <td>0</td>\n",
       "      <td>SP_84/63_f.12</td>\n",
       "      <td>0</td>\n",
       "      <td>SP 84/63 f.12</td>\n",
       "    </tr>\n",
       "    <tr>\n",
       "      <th>...</th>\n",
       "      <td>...</td>\n",
       "      <td>...</td>\n",
       "      <td>...</td>\n",
       "      <td>...</td>\n",
       "      <td>...</td>\n",
       "      <td>...</td>\n",
       "      <td>...</td>\n",
       "    </tr>\n",
       "    <tr>\n",
       "      <th>139292</th>\n",
       "      <td>15618</td>\n",
       "      <td>29809</td>\n",
       "      <td>16030723</td>\n",
       "      <td>16030723</td>\n",
       "      <td>spo1_MQIS_SAL-v015-p015_mqes_sal-v015-p015-m04...</td>\n",
       "      <td>0</td>\n",
       "      <td>NaN</td>\n",
       "    </tr>\n",
       "    <tr>\n",
       "      <th>139293</th>\n",
       "      <td>20170</td>\n",
       "      <td>29809</td>\n",
       "      <td>16030723</td>\n",
       "      <td>16030723</td>\n",
       "      <td>spo1_MQIS_SAL-v015-p015_mqes_sal-v015-p015-m04...</td>\n",
       "      <td>4019</td>\n",
       "      <td>NaN</td>\n",
       "    </tr>\n",
       "    <tr>\n",
       "      <th>139294</th>\n",
       "      <td>11449</td>\n",
       "      <td>29809</td>\n",
       "      <td>16030724</td>\n",
       "      <td>16030724</td>\n",
       "      <td>spo1_MQIS_SAL-v015-p015_mqes_sal-v015-p015-m04...</td>\n",
       "      <td>0</td>\n",
       "      <td>NaN</td>\n",
       "    </tr>\n",
       "    <tr>\n",
       "      <th>139295</th>\n",
       "      <td>17019</td>\n",
       "      <td>7068</td>\n",
       "      <td>16030724</td>\n",
       "      <td>16030724</td>\n",
       "      <td>spo1_ELZ1-fd1580-td1625_elz1-fd1580-td1625-m13...</td>\n",
       "      <td>0</td>\n",
       "      <td>SP 15/35</td>\n",
       "    </tr>\n",
       "    <tr>\n",
       "      <th>139296</th>\n",
       "      <td>29618</td>\n",
       "      <td>29809</td>\n",
       "      <td>16030724</td>\n",
       "      <td>16030724</td>\n",
       "      <td>SP_84/64_f.32</td>\n",
       "      <td>0</td>\n",
       "      <td>SP 84/64 f.32</td>\n",
       "    </tr>\n",
       "  </tbody>\n",
       "</table>\n",
       "<p>139297 rows × 7 columns</p>\n",
       "</div>"
      ],
      "text/plain": [
       "        #SENDER_ID  RECIPIENT_ID  DATE_FROM   DATE_TO  \\\n",
       "0            10102         18633          0         0   \n",
       "1            10407         24658          0         0   \n",
       "2            10575         28163          0         0   \n",
       "3            10903         20638          0         0   \n",
       "4            10955         31585          0         0   \n",
       "...            ...           ...        ...       ...   \n",
       "139292       15618         29809   16030723  16030723   \n",
       "139293       20170         29809   16030723  16030723   \n",
       "139294       11449         29809   16030724  16030724   \n",
       "139295       17019          7068   16030724  16030724   \n",
       "139296       29618         29809   16030724  16030724   \n",
       "\n",
       "                                                    MS_ID PLACE_ID  \\\n",
       "0                                           SP_84/63_f.49        0   \n",
       "1             spo2_imcc-v003-p000_imcc-v003-p000-m0234-cm     3481   \n",
       "2                                       Harley_7002_f.241        0   \n",
       "3                                        Harley_7002_f.75        0   \n",
       "4                                           SP_84/63_f.12        0   \n",
       "...                                                   ...      ...   \n",
       "139292  spo1_MQIS_SAL-v015-p015_mqes_sal-v015-p015-m04...        0   \n",
       "139293  spo1_MQIS_SAL-v015-p015_mqes_sal-v015-p015-m04...     4019   \n",
       "139294  spo1_MQIS_SAL-v015-p015_mqes_sal-v015-p015-m04...        0   \n",
       "139295  spo1_ELZ1-fd1580-td1625_elz1-fd1580-td1625-m13...        0   \n",
       "139296                                      SP_84/64_f.32        0   \n",
       "\n",
       "                   MS_REF  \n",
       "0           SP 84/63 f.49  \n",
       "1           SP 63/25 f.55  \n",
       "2       Harley 7002 f.241  \n",
       "3        Harley 7002 f.75  \n",
       "4           SP 84/63 f.12  \n",
       "...                   ...  \n",
       "139292                NaN  \n",
       "139293                NaN  \n",
       "139294                NaN  \n",
       "139295           SP 15/35  \n",
       "139296      SP 84/64 f.32  \n",
       "\n",
       "[139297 rows x 7 columns]"
      ]
     },
     "execution_count": 3,
     "metadata": {},
     "output_type": "execute_result"
    }
   ],
   "source": [
    "raw_data = pd.read_csv(\"letter_edgelist.tsv\", sep='\\t')\n",
    "raw_data"
   ]
  },
  {
   "cell_type": "code",
   "execution_count": 4,
   "id": "d725e900-8d9d-4685-bc38-f3c7b4c1d354",
   "metadata": {},
   "outputs": [
    {
     "data": {
      "text/html": [
       "<div>\n",
       "<style scoped>\n",
       "    .dataframe tbody tr th:only-of-type {\n",
       "        vertical-align: middle;\n",
       "    }\n",
       "\n",
       "    .dataframe tbody tr th {\n",
       "        vertical-align: top;\n",
       "    }\n",
       "\n",
       "    .dataframe thead th {\n",
       "        text-align: right;\n",
       "    }\n",
       "</style>\n",
       "<table border=\"1\" class=\"dataframe\">\n",
       "  <thead>\n",
       "    <tr style=\"text-align: right;\">\n",
       "      <th></th>\n",
       "      <th>#SENDER_ID</th>\n",
       "      <th>RECIPIENT_ID</th>\n",
       "      <th>weight</th>\n",
       "    </tr>\n",
       "  </thead>\n",
       "  <tbody>\n",
       "    <tr>\n",
       "      <th>32382</th>\n",
       "      <td>30517</td>\n",
       "      <td>30478</td>\n",
       "      <td>563</td>\n",
       "    </tr>\n",
       "    <tr>\n",
       "      <th>25848</th>\n",
       "      <td>26415</td>\n",
       "      <td>30478</td>\n",
       "      <td>449</td>\n",
       "    </tr>\n",
       "    <tr>\n",
       "      <th>28988</th>\n",
       "      <td>28892</td>\n",
       "      <td>30478</td>\n",
       "      <td>442</td>\n",
       "    </tr>\n",
       "    <tr>\n",
       "      <th>7050</th>\n",
       "      <td>8067</td>\n",
       "      <td>28530</td>\n",
       "      <td>421</td>\n",
       "    </tr>\n",
       "    <tr>\n",
       "      <th>32287</th>\n",
       "      <td>30507</td>\n",
       "      <td>30478</td>\n",
       "      <td>390</td>\n",
       "    </tr>\n",
       "    <tr>\n",
       "      <th>...</th>\n",
       "      <td>...</td>\n",
       "      <td>...</td>\n",
       "      <td>...</td>\n",
       "    </tr>\n",
       "    <tr>\n",
       "      <th>15851</th>\n",
       "      <td>15617</td>\n",
       "      <td>32545</td>\n",
       "      <td>1</td>\n",
       "    </tr>\n",
       "    <tr>\n",
       "      <th>15850</th>\n",
       "      <td>15616</td>\n",
       "      <td>24566</td>\n",
       "      <td>1</td>\n",
       "    </tr>\n",
       "    <tr>\n",
       "      <th>15848</th>\n",
       "      <td>15615</td>\n",
       "      <td>13349</td>\n",
       "      <td>1</td>\n",
       "    </tr>\n",
       "    <tr>\n",
       "      <th>15846</th>\n",
       "      <td>15614</td>\n",
       "      <td>35838</td>\n",
       "      <td>1</td>\n",
       "    </tr>\n",
       "    <tr>\n",
       "      <th>15872</th>\n",
       "      <td>15634</td>\n",
       "      <td>9125</td>\n",
       "      <td>1</td>\n",
       "    </tr>\n",
       "  </tbody>\n",
       "</table>\n",
       "<p>40115 rows × 3 columns</p>\n",
       "</div>"
      ],
      "text/plain": [
       "       #SENDER_ID  RECIPIENT_ID  weight\n",
       "32382       30517         30478     563\n",
       "25848       26415         30478     449\n",
       "28988       28892         30478     442\n",
       "7050         8067         28530     421\n",
       "32287       30507         30478     390\n",
       "...           ...           ...     ...\n",
       "15851       15617         32545       1\n",
       "15850       15616         24566       1\n",
       "15848       15615         13349       1\n",
       "15846       15614         35838       1\n",
       "15872       15634          9125       1\n",
       "\n",
       "[40115 rows x 3 columns]"
      ]
     },
     "execution_count": 4,
     "metadata": {},
     "output_type": "execute_result"
    }
   ],
   "source": [
    "raw_data_agg = raw_data.groupby(['#SENDER_ID', 'RECIPIENT_ID']).size().reset_index(name = 'weight')\n",
    "raw_data_agg.sort_values(by = 'weight', ascending = False)"
   ]
  },
  {
   "cell_type": "code",
   "execution_count": 5,
   "id": "3ee8986f-3d4e-486a-a62a-4e93db763073",
   "metadata": {},
   "outputs": [],
   "source": [
    "letters_network = nx.from_pandas_edgelist(df = raw_data_agg, source = '#SENDER_ID', target = 'RECIPIENT_ID', edge_attr=True)"
   ]
  },
  {
   "cell_type": "code",
   "execution_count": 6,
   "id": "60bcfefe-6d88-4c90-ad6e-62c9f55015b4",
   "metadata": {},
   "outputs": [],
   "source": [
    "letters_network_directed = nx.from_pandas_edgelist(df = raw_data_agg, source = '#SENDER_ID', target = 'RECIPIENT_ID', create_using = nx.DiGraph(), edge_attr= True)"
   ]
  },
  {
   "cell_type": "code",
   "execution_count": 7,
   "id": "0a7814c0-5bf8-484c-86d4-a9250043dde9",
   "metadata": {},
   "outputs": [
    {
     "data": {
      "text/html": [
       "<div>\n",
       "<style scoped>\n",
       "    .dataframe tbody tr th:only-of-type {\n",
       "        vertical-align: middle;\n",
       "    }\n",
       "\n",
       "    .dataframe tbody tr th {\n",
       "        vertical-align: top;\n",
       "    }\n",
       "\n",
       "    .dataframe thead th {\n",
       "        text-align: right;\n",
       "    }\n",
       "</style>\n",
       "<table border=\"1\" class=\"dataframe\">\n",
       "  <thead>\n",
       "    <tr style=\"text-align: right;\">\n",
       "      <th></th>\n",
       "      <th>id</th>\n",
       "      <th>in_degree</th>\n",
       "      <th>out_degree</th>\n",
       "    </tr>\n",
       "  </thead>\n",
       "  <tbody>\n",
       "    <tr>\n",
       "      <th>0</th>\n",
       "      <td>7</td>\n",
       "      <td>0</td>\n",
       "      <td>1</td>\n",
       "    </tr>\n",
       "    <tr>\n",
       "      <th>1</th>\n",
       "      <td>32642</td>\n",
       "      <td>141</td>\n",
       "      <td>25</td>\n",
       "    </tr>\n",
       "    <tr>\n",
       "      <th>2</th>\n",
       "      <td>9</td>\n",
       "      <td>0</td>\n",
       "      <td>1</td>\n",
       "    </tr>\n",
       "    <tr>\n",
       "      <th>3</th>\n",
       "      <td>33559</td>\n",
       "      <td>4</td>\n",
       "      <td>1</td>\n",
       "    </tr>\n",
       "    <tr>\n",
       "      <th>4</th>\n",
       "      <td>10</td>\n",
       "      <td>0</td>\n",
       "      <td>1</td>\n",
       "    </tr>\n",
       "    <tr>\n",
       "      <th>...</th>\n",
       "      <td>...</td>\n",
       "      <td>...</td>\n",
       "      <td>...</td>\n",
       "    </tr>\n",
       "    <tr>\n",
       "      <th>20555</th>\n",
       "      <td>38197</td>\n",
       "      <td>0</td>\n",
       "      <td>1</td>\n",
       "    </tr>\n",
       "    <tr>\n",
       "      <th>20556</th>\n",
       "      <td>38198</td>\n",
       "      <td>0</td>\n",
       "      <td>1</td>\n",
       "    </tr>\n",
       "    <tr>\n",
       "      <th>20557</th>\n",
       "      <td>38199</td>\n",
       "      <td>0</td>\n",
       "      <td>1</td>\n",
       "    </tr>\n",
       "    <tr>\n",
       "      <th>20558</th>\n",
       "      <td>40000</td>\n",
       "      <td>0</td>\n",
       "      <td>1</td>\n",
       "    </tr>\n",
       "    <tr>\n",
       "      <th>20559</th>\n",
       "      <td>26576</td>\n",
       "      <td>1</td>\n",
       "      <td>0</td>\n",
       "    </tr>\n",
       "  </tbody>\n",
       "</table>\n",
       "<p>20560 rows × 3 columns</p>\n",
       "</div>"
      ],
      "text/plain": [
       "          id  in_degree  out_degree\n",
       "0          7          0           1\n",
       "1      32642        141          25\n",
       "2          9          0           1\n",
       "3      33559          4           1\n",
       "4         10          0           1\n",
       "...      ...        ...         ...\n",
       "20555  38197          0           1\n",
       "20556  38198          0           1\n",
       "20557  38199          0           1\n",
       "20558  40000          0           1\n",
       "20559  26576          1           0\n",
       "\n",
       "[20560 rows x 3 columns]"
      ]
     },
     "execution_count": 7,
     "metadata": {},
     "output_type": "execute_result"
    }
   ],
   "source": [
    "letters_degree_df =  pd.DataFrame({'id' : letters_network_directed.nodes(),\n",
    "             'in_degree' : [y for (x,y) in letters_network_directed.in_degree()],\n",
    "             'out_degree' : [y for (x,y) in letters_network_directed.out_degree()]\n",
    "             })\n",
    "letters_degree_df"
   ]
  },
  {
   "cell_type": "code",
   "execution_count": 8,
   "id": "263491f9-a929-4822-9ed8-fb2a9d5a383a",
   "metadata": {},
   "outputs": [
    {
     "data": {
      "text/plain": [
       "1.9511186770428015"
      ]
     },
     "execution_count": 8,
     "metadata": {},
     "output_type": "execute_result"
    }
   ],
   "source": [
    "avg_in_degree = np.average(letters_degree_df['in_degree'])\n",
    "avg_in_degree"
   ]
  },
  {
   "cell_type": "code",
   "execution_count": 9,
   "id": "453f1796-fbc9-4d4b-ba82-edc08323a635",
   "metadata": {},
   "outputs": [
    {
     "data": {
      "text/plain": [
       "1.9511186770428015"
      ]
     },
     "execution_count": 9,
     "metadata": {},
     "output_type": "execute_result"
    }
   ],
   "source": [
    "avg_out_degree = np.average(letters_degree_df['out_degree'])\n",
    "avg_out_degree"
   ]
  },
  {
   "cell_type": "code",
   "execution_count": 10,
   "id": "fa89e5b0-aae5-455e-953e-6443336b0c48",
   "metadata": {},
   "outputs": [
    {
     "name": "stderr",
     "output_type": "stream",
     "text": [
      "/srv/conda/lib/python3.11/site-packages/pandas/core/arraylike.py:399: RuntimeWarning: divide by zero encountered in log\n",
      "  result = getattr(ufunc, method)(*inputs, **kwargs)\n"
     ]
    },
    {
     "data": {
      "text/plain": [
       "Text(0.5, 1.0, 'In-degree VS Out-Degree of a Node')"
      ]
     },
     "execution_count": 10,
     "metadata": {},
     "output_type": "execute_result"
    },
    {
     "data": {
      "image/png": "[encoded data removed]",
      "text/plain": [
       "<Figure size 640x480 with 1 Axes>"
      ]
     },
     "metadata": {},
     "output_type": "display_data"
    }
   ],
   "source": [
    "plt.scatter(np.log(letters_degree_df['in_degree']), np.log(letters_degree_df['out_degree']), alpha = 0.4)\n",
    "plt.xlabel('log(in_degree)')\n",
    "plt.ylabel('log(out_degree)')\n",
    "plt.title('In-degree VS Out-Degree of a Node')"
   ]
  },
  {
   "cell_type": "code",
   "execution_count": 11,
   "id": "9b8ac025-c261-4cd5-8d34-21d7f70d37a8",
   "metadata": {},
   "outputs": [],
   "source": [
    "#PART B"
   ]
  },
  {
   "cell_type": "code",
   "execution_count": 12,
   "id": "d674e6db-1801-4771-ac63-5f40362e2903",
   "metadata": {},
   "outputs": [
    {
     "data": {
      "text/plain": [
       "942"
      ]
     },
     "execution_count": 12,
     "metadata": {},
     "output_type": "execute_result"
    }
   ],
   "source": [
    "#check that the undirected network was created correctly\n",
    "nx.number_connected_components(letters_network)"
   ]
  },
  {
   "cell_type": "code",
   "execution_count": 13,
   "id": "731a0df9-ec9d-4a58-b27f-a3c7e8c289c0",
   "metadata": {},
   "outputs": [],
   "source": [
    "def get_degree_list(g):\n",
    "    return([deg_val for (node, deg_val) in g.degree()])"
   ]
  },
  {
   "cell_type": "code",
   "execution_count": 14,
   "id": "1044b2a8-671b-48a4-bf67-5a06519c2ebe",
   "metadata": {},
   "outputs": [],
   "source": [
    "#The degree of all the nodes in our network\n",
    "letters_network_degrees = get_degree_list(letters_network)"
   ]
  },
  {
   "cell_type": "code",
   "execution_count": 15,
   "id": "a0366478-d2ba-4705-8982-d0fe3848abc3",
   "metadata": {},
   "outputs": [],
   "source": [
    "#One configuration model based on this\n",
    "config_model = nx.configuration_model(letters_network_degrees)"
   ]
  },
  {
   "cell_type": "code",
   "execution_count": 16,
   "id": "91c299c2-a68b-4336-9067-8ffa36612089",
   "metadata": {},
   "outputs": [],
   "source": [
    "#Simplify configuration network from multigraph to graph object\n",
    "simple_config_model = nx.Graph(config_model)\n",
    "simple_config_model.remove_edges_from(nx.selfloop_edges(simple_config_model))"
   ]
  },
  {
   "cell_type": "code",
   "execution_count": 17,
   "id": "d1ead788-efb5-4493-9c01-09a0c781891e",
   "metadata": {},
   "outputs": [
    {
     "data": {
      "text/plain": [
       "0.1747101288269982"
      ]
     },
     "execution_count": 17,
     "metadata": {},
     "output_type": "execute_result"
    }
   ],
   "source": [
    "#Claim 1: Clustering Coefficient (CC)\n",
    "#The clustering coefficient of our observed network\n",
    "observed_cc = nx.average_clustering(letters_network)\n",
    "observed_cc"
   ]
  },
  {
   "cell_type": "code",
   "execution_count": 18,
   "id": "aa25d471-3422-4114-962d-ef9a7eb6f0fc",
   "metadata": {},
   "outputs": [
    {
     "data": {
      "image/png": "[encoded data removed]",
      "text/plain": [
       "<Figure size 600x400 with 1 Axes>"
      ]
     },
     "metadata": {},
     "output_type": "display_data"
    }
   ],
   "source": [
    "#Simulate many random configuration models based on the degrees of our original network\n",
    "cc_results = make_array()\n",
    "\n",
    "for i in range(500):\n",
    "    current_config_model = nx.configuration_model(letters_network_degrees)\n",
    "    current_config_model = nx.Graph(current_config_model)\n",
    "    current_config_model.remove_edges_from(nx.selfloop_edges(current_config_model))\n",
    "    cc_results = np.append(cc_results, nx.average_clustering(current_config_model))\n",
    "    \n",
    "tbl_cc = Table().with_column('config model avg CC', cc_results)\n",
    "tbl_cc.hist()"
   ]
  },
  {
   "cell_type": "code",
   "execution_count": 19,
   "id": "e426e616-9c2e-4795-83ab-1e813dd77a5e",
   "metadata": {},
   "outputs": [
    {
     "data": {
      "text/html": [
       "<table border=\"1\" class=\"dataframe\">\n",
       "    <thead>\n",
       "        <tr>\n",
       "            <th>config model avg CC</th>\n",
       "        </tr>\n",
       "    </thead>\n",
       "    <tbody>\n",
       "        <tr>\n",
       "            <td>0.0486235          </td>\n",
       "        </tr>\n",
       "        <tr>\n",
       "            <td>0.0503031          </td>\n",
       "        </tr>\n",
       "        <tr>\n",
       "            <td>0.051743           </td>\n",
       "        </tr>\n",
       "        <tr>\n",
       "            <td>0.0521699          </td>\n",
       "        </tr>\n",
       "        <tr>\n",
       "            <td>0.0516975          </td>\n",
       "        </tr>\n",
       "        <tr>\n",
       "            <td>0.0513272          </td>\n",
       "        </tr>\n",
       "        <tr>\n",
       "            <td>0.0522846          </td>\n",
       "        </tr>\n",
       "        <tr>\n",
       "            <td>0.0502904          </td>\n",
       "        </tr>\n",
       "        <tr>\n",
       "            <td>0.0498746          </td>\n",
       "        </tr>\n",
       "        <tr>\n",
       "            <td>0.0493223          </td>\n",
       "        </tr>\n",
       "    </tbody>\n",
       "</table>\n",
       "<p>... (490 rows omitted)</p>"
      ],
      "text/plain": [
       "config model avg CC\n",
       "0.0486235\n",
       "0.0503031\n",
       "0.051743\n",
       "0.0521699\n",
       "0.0516975\n",
       "0.0513272\n",
       "0.0522846\n",
       "0.0502904\n",
       "0.0498746\n",
       "0.0493223\n",
       "... (490 rows omitted)"
      ]
     },
     "execution_count": 19,
     "metadata": {},
     "output_type": "execute_result"
    }
   ],
   "source": [
    "tbl_cc"
   ]
  },
  {
   "cell_type": "code",
   "execution_count": 20,
   "id": "91b90f2c-d9c9-45dc-a32b-2da68db8d556",
   "metadata": {},
   "outputs": [],
   "source": [
    "#PART C"
   ]
  },
  {
   "cell_type": "code",
   "execution_count": 21,
   "id": "adc959be-a82d-419a-8c4e-1d62ce927e02",
   "metadata": {},
   "outputs": [
    {
     "data": {
      "text/html": [
       "<div>\n",
       "<style scoped>\n",
       "    .dataframe tbody tr th:only-of-type {\n",
       "        vertical-align: middle;\n",
       "    }\n",
       "\n",
       "    .dataframe tbody tr th {\n",
       "        vertical-align: top;\n",
       "    }\n",
       "\n",
       "    .dataframe thead th {\n",
       "        text-align: right;\n",
       "    }\n",
       "</style>\n",
       "<table border=\"1\" class=\"dataframe\">\n",
       "  <thead>\n",
       "    <tr style=\"text-align: right;\">\n",
       "      <th></th>\n",
       "      <th>3</th>\n",
       "      <th>(Monseigneur)</th>\n",
       "    </tr>\n",
       "  </thead>\n",
       "  <tbody>\n",
       "    <tr>\n",
       "      <th>0</th>\n",
       "      <td>7</td>\n",
       "      <td>--- Parker the elder</td>\n",
       "    </tr>\n",
       "    <tr>\n",
       "      <th>1</th>\n",
       "      <td>9</td>\n",
       "      <td>--- Thomas</td>\n",
       "    </tr>\n",
       "    <tr>\n",
       "      <th>2</th>\n",
       "      <td>10</td>\n",
       "      <td>--- Topcliffe</td>\n",
       "    </tr>\n",
       "    <tr>\n",
       "      <th>3</th>\n",
       "      <td>12</td>\n",
       "      <td>...</td>\n",
       "    </tr>\n",
       "    <tr>\n",
       "      <th>4</th>\n",
       "      <td>13</td>\n",
       "      <td>11 others</td>\n",
       "    </tr>\n",
       "    <tr>\n",
       "      <th>...</th>\n",
       "      <td>...</td>\n",
       "      <td>...</td>\n",
       "    </tr>\n",
       "    <tr>\n",
       "      <th>20554</th>\n",
       "      <td>38197</td>\n",
       "      <td>Robert Stewart, 1st Earl of March</td>\n",
       "    </tr>\n",
       "    <tr>\n",
       "      <th>20555</th>\n",
       "      <td>38198</td>\n",
       "      <td>John Porterfield</td>\n",
       "    </tr>\n",
       "    <tr>\n",
       "      <th>20556</th>\n",
       "      <td>38199</td>\n",
       "      <td>Margaret of Savoy's Council</td>\n",
       "    </tr>\n",
       "    <tr>\n",
       "      <th>20557</th>\n",
       "      <td>38200</td>\n",
       "      <td>Thomas Sherley</td>\n",
       "    </tr>\n",
       "    <tr>\n",
       "      <th>20558</th>\n",
       "      <td>40000</td>\n",
       "      <td>-</td>\n",
       "    </tr>\n",
       "  </tbody>\n",
       "</table>\n",
       "<p>20559 rows × 2 columns</p>\n",
       "</div>"
      ],
      "text/plain": [
       "           3                      (Monseigneur)\n",
       "0          7               --- Parker the elder\n",
       "1          9                         --- Thomas\n",
       "2         10                      --- Topcliffe\n",
       "3         12                                ...\n",
       "4         13                          11 others\n",
       "...      ...                                ...\n",
       "20554  38197  Robert Stewart, 1st Earl of March\n",
       "20555  38198                   John Porterfield\n",
       "20556  38199        Margaret of Savoy's Council\n",
       "20557  38200                     Thomas Sherley\n",
       "20558  40000                                  -\n",
       "\n",
       "[20559 rows x 2 columns]"
      ]
     },
     "execution_count": 21,
     "metadata": {},
     "output_type": "execute_result"
    }
   ],
   "source": [
    "#Load in people labels data\n",
    "raw_data_people_labels = pd.read_csv(\"people_labels.tsv\", sep='\\t')\n",
    "raw_data_people_labels"
   ]
  },
  {
   "cell_type": "code",
   "execution_count": 22,
   "id": "042f8ff8-57fd-4213-b003-cae04047ae76",
   "metadata": {},
   "outputs": [
    {
     "data": {
      "text/html": [
       "<div>\n",
       "<style scoped>\n",
       "    .dataframe tbody tr th:only-of-type {\n",
       "        vertical-align: middle;\n",
       "    }\n",
       "\n",
       "    .dataframe tbody tr th {\n",
       "        vertical-align: top;\n",
       "    }\n",
       "\n",
       "    .dataframe thead th {\n",
       "        text-align: right;\n",
       "    }\n",
       "</style>\n",
       "<table border=\"1\" class=\"dataframe\">\n",
       "  <thead>\n",
       "    <tr style=\"text-align: right;\">\n",
       "      <th></th>\n",
       "      <th>id</th>\n",
       "      <th>in_degree</th>\n",
       "      <th>out_degree</th>\n",
       "      <th>Name</th>\n",
       "    </tr>\n",
       "  </thead>\n",
       "  <tbody>\n",
       "    <tr>\n",
       "      <th>0</th>\n",
       "      <td>7</td>\n",
       "      <td>0</td>\n",
       "      <td>1</td>\n",
       "      <td>--- Parker the elder</td>\n",
       "    </tr>\n",
       "    <tr>\n",
       "      <th>1</th>\n",
       "      <td>32642</td>\n",
       "      <td>141</td>\n",
       "      <td>25</td>\n",
       "      <td>Thomas Fanshawe</td>\n",
       "    </tr>\n",
       "    <tr>\n",
       "      <th>2</th>\n",
       "      <td>9</td>\n",
       "      <td>0</td>\n",
       "      <td>1</td>\n",
       "      <td>--- Thomas</td>\n",
       "    </tr>\n",
       "    <tr>\n",
       "      <th>3</th>\n",
       "      <td>33559</td>\n",
       "      <td>4</td>\n",
       "      <td>1</td>\n",
       "      <td>Thomas Wotton</td>\n",
       "    </tr>\n",
       "    <tr>\n",
       "      <th>4</th>\n",
       "      <td>10</td>\n",
       "      <td>0</td>\n",
       "      <td>1</td>\n",
       "      <td>--- Topcliffe</td>\n",
       "    </tr>\n",
       "    <tr>\n",
       "      <th>...</th>\n",
       "      <td>...</td>\n",
       "      <td>...</td>\n",
       "      <td>...</td>\n",
       "      <td>...</td>\n",
       "    </tr>\n",
       "    <tr>\n",
       "      <th>20554</th>\n",
       "      <td>38197</td>\n",
       "      <td>0</td>\n",
       "      <td>1</td>\n",
       "      <td>Robert Stewart, 1st Earl of March</td>\n",
       "    </tr>\n",
       "    <tr>\n",
       "      <th>20555</th>\n",
       "      <td>38198</td>\n",
       "      <td>0</td>\n",
       "      <td>1</td>\n",
       "      <td>John Porterfield</td>\n",
       "    </tr>\n",
       "    <tr>\n",
       "      <th>20556</th>\n",
       "      <td>38199</td>\n",
       "      <td>0</td>\n",
       "      <td>1</td>\n",
       "      <td>Margaret of Savoy's Council</td>\n",
       "    </tr>\n",
       "    <tr>\n",
       "      <th>20557</th>\n",
       "      <td>40000</td>\n",
       "      <td>0</td>\n",
       "      <td>1</td>\n",
       "      <td>-</td>\n",
       "    </tr>\n",
       "    <tr>\n",
       "      <th>20558</th>\n",
       "      <td>26576</td>\n",
       "      <td>1</td>\n",
       "      <td>0</td>\n",
       "      <td>Robert Frevyle of the office of Marshal of the...</td>\n",
       "    </tr>\n",
       "  </tbody>\n",
       "</table>\n",
       "<p>20559 rows × 4 columns</p>\n",
       "</div>"
      ],
      "text/plain": [
       "          id  in_degree  out_degree  \\\n",
       "0          7          0           1   \n",
       "1      32642        141          25   \n",
       "2          9          0           1   \n",
       "3      33559          4           1   \n",
       "4         10          0           1   \n",
       "...      ...        ...         ...   \n",
       "20554  38197          0           1   \n",
       "20555  38198          0           1   \n",
       "20556  38199          0           1   \n",
       "20557  40000          0           1   \n",
       "20558  26576          1           0   \n",
       "\n",
       "                                                    Name  \n",
       "0                                   --- Parker the elder  \n",
       "1                                        Thomas Fanshawe  \n",
       "2                                             --- Thomas  \n",
       "3                                          Thomas Wotton  \n",
       "4                                          --- Topcliffe  \n",
       "...                                                  ...  \n",
       "20554                  Robert Stewart, 1st Earl of March  \n",
       "20555                                   John Porterfield  \n",
       "20556                        Margaret of Savoy's Council  \n",
       "20557                                                  -  \n",
       "20558  Robert Frevyle of the office of Marshal of the...  \n",
       "\n",
       "[20559 rows x 4 columns]"
      ]
     },
     "execution_count": 22,
     "metadata": {},
     "output_type": "execute_result"
    }
   ],
   "source": [
    "#Merge dataframe from part A with our people labels dataframe. \n",
    "#'3' column in our people labels data is the same as 'id' in our dataframe from part A\n",
    "letters_degree_names = letters_degree_df.merge(raw_data_people_labels, left_on = 'id', right_on = '3').drop('3', axis = 1).rename(columns = {'(Monseigneur)': 'Name'})\n",
    "letters_degree_names"
   ]
  },
  {
   "cell_type": "code",
   "execution_count": 23,
   "id": "fdf7e1d4-bd7c-4837-b8b9-0367de70b66b",
   "metadata": {},
   "outputs": [
    {
     "data": {
      "text/html": [
       "<div>\n",
       "<style scoped>\n",
       "    .dataframe tbody tr th:only-of-type {\n",
       "        vertical-align: middle;\n",
       "    }\n",
       "\n",
       "    .dataframe tbody tr th {\n",
       "        vertical-align: top;\n",
       "    }\n",
       "\n",
       "    .dataframe thead th {\n",
       "        text-align: right;\n",
       "    }\n",
       "</style>\n",
       "<table border=\"1\" class=\"dataframe\">\n",
       "  <thead>\n",
       "    <tr style=\"text-align: right;\">\n",
       "      <th></th>\n",
       "      <th>id</th>\n",
       "      <th>in_degree</th>\n",
       "      <th>out_degree</th>\n",
       "      <th>Name</th>\n",
       "    </tr>\n",
       "  </thead>\n",
       "  <tbody>\n",
       "    <tr>\n",
       "      <th>51</th>\n",
       "      <td>11844</td>\n",
       "      <td>704</td>\n",
       "      <td>430</td>\n",
       "      <td>Henry VIII</td>\n",
       "    </tr>\n",
       "  </tbody>\n",
       "</table>\n",
       "</div>"
      ],
      "text/plain": [
       "       id  in_degree  out_degree        Name\n",
       "51  11844        704         430  Henry VIII"
      ]
     },
     "execution_count": 23,
     "metadata": {},
     "output_type": "execute_result"
    }
   ],
   "source": [
    "#Filter the dataframe to find the people we're interested in\n",
    "letters_degree_names[letters_degree_names['Name'] == 'Henry VIII']"
   ]
  },
  {
   "cell_type": "code",
   "execution_count": 24,
   "id": "3c01ab8b-3a1c-4b7f-a55a-024d12998bee",
   "metadata": {},
   "outputs": [
    {
     "data": {
      "text/plain": [
       "11844"
      ]
     },
     "execution_count": 24,
     "metadata": {},
     "output_type": "execute_result"
    }
   ],
   "source": [
    "#record the id of each person to use to find clustering coefficient and eigenvector centrality later\n",
    "henry_id = letters_degree_names[letters_degree_names['Name'] == 'Henry VIII']['id'].iloc[0]\n",
    "henry_id"
   ]
  },
  {
   "cell_type": "code",
   "execution_count": 25,
   "id": "08051c49-c564-4583-ab2d-132fc9feb66e",
   "metadata": {},
   "outputs": [
    {
     "data": {
      "text/html": [
       "<div>\n",
       "<style scoped>\n",
       "    .dataframe tbody tr th:only-of-type {\n",
       "        vertical-align: middle;\n",
       "    }\n",
       "\n",
       "    .dataframe tbody tr th {\n",
       "        vertical-align: top;\n",
       "    }\n",
       "\n",
       "    .dataframe thead th {\n",
       "        text-align: right;\n",
       "    }\n",
       "</style>\n",
       "<table border=\"1\" class=\"dataframe\">\n",
       "  <thead>\n",
       "    <tr style=\"text-align: right;\">\n",
       "      <th></th>\n",
       "      <th>id</th>\n",
       "      <th>in_degree</th>\n",
       "      <th>out_degree</th>\n",
       "      <th>Name</th>\n",
       "    </tr>\n",
       "  </thead>\n",
       "  <tbody>\n",
       "    <tr>\n",
       "      <th>611</th>\n",
       "      <td>16721</td>\n",
       "      <td>22</td>\n",
       "      <td>22</td>\n",
       "      <td>Katharine of Arragon</td>\n",
       "    </tr>\n",
       "  </tbody>\n",
       "</table>\n",
       "</div>"
      ],
      "text/plain": [
       "        id  in_degree  out_degree                  Name\n",
       "611  16721         22          22  Katharine of Arragon"
      ]
     },
     "execution_count": 25,
     "metadata": {},
     "output_type": "execute_result"
    }
   ],
   "source": [
    "letters_degree_names[letters_degree_names['Name'] == 'Katharine of Arragon']"
   ]
  },
  {
   "cell_type": "code",
   "execution_count": 26,
   "id": "95ae3c05-74ee-4b53-bb6a-98e84620074d",
   "metadata": {},
   "outputs": [
    {
     "data": {
      "text/plain": [
       "16721"
      ]
     },
     "execution_count": 26,
     "metadata": {},
     "output_type": "execute_result"
    }
   ],
   "source": [
    "katharine_id = letters_degree_names[letters_degree_names['Name'] == 'Katharine of Arragon']['id'].iloc[0]\n",
    "katharine_id"
   ]
  },
  {
   "cell_type": "code",
   "execution_count": 27,
   "id": "b8da2fa1-63b1-4085-ae27-a2f1df3eff19",
   "metadata": {},
   "outputs": [
    {
     "data": {
      "text/html": [
       "<div>\n",
       "<style scoped>\n",
       "    .dataframe tbody tr th:only-of-type {\n",
       "        vertical-align: middle;\n",
       "    }\n",
       "\n",
       "    .dataframe tbody tr th {\n",
       "        vertical-align: top;\n",
       "    }\n",
       "\n",
       "    .dataframe thead th {\n",
       "        text-align: right;\n",
       "    }\n",
       "</style>\n",
       "<table border=\"1\" class=\"dataframe\">\n",
       "  <thead>\n",
       "    <tr style=\"text-align: right;\">\n",
       "      <th></th>\n",
       "      <th>id</th>\n",
       "      <th>in_degree</th>\n",
       "      <th>out_degree</th>\n",
       "      <th>Name</th>\n",
       "    </tr>\n",
       "  </thead>\n",
       "  <tbody>\n",
       "    <tr>\n",
       "      <th>116</th>\n",
       "      <td>32545</td>\n",
       "      <td>1960</td>\n",
       "      <td>177</td>\n",
       "      <td>Thomas Cromwell, Earl of Essex</td>\n",
       "    </tr>\n",
       "  </tbody>\n",
       "</table>\n",
       "</div>"
      ],
      "text/plain": [
       "        id  in_degree  out_degree                            Name\n",
       "116  32545       1960         177  Thomas Cromwell, Earl of Essex"
      ]
     },
     "execution_count": 27,
     "metadata": {},
     "output_type": "execute_result"
    }
   ],
   "source": [
    "letters_degree_names[letters_degree_names['Name'] == 'Thomas Cromwell, Earl of Essex']"
   ]
  },
  {
   "cell_type": "code",
   "execution_count": 28,
   "id": "1f508f82-9da9-4fd0-85c5-f71afa4f4c24",
   "metadata": {},
   "outputs": [
    {
     "data": {
      "text/plain": [
       "32545"
      ]
     },
     "execution_count": 28,
     "metadata": {},
     "output_type": "execute_result"
    }
   ],
   "source": [
    "thomas_id = letters_degree_names[letters_degree_names['Name'] == 'Thomas Cromwell, Earl of Essex']['id'].iloc[0]\n",
    "thomas_id"
   ]
  },
  {
   "cell_type": "code",
   "execution_count": 29,
   "id": "a092caa3-46a0-4466-8084-4d189f36e5eb",
   "metadata": {},
   "outputs": [
    {
     "data": {
      "text/html": [
       "<div>\n",
       "<style scoped>\n",
       "    .dataframe tbody tr th:only-of-type {\n",
       "        vertical-align: middle;\n",
       "    }\n",
       "\n",
       "    .dataframe tbody tr th {\n",
       "        vertical-align: top;\n",
       "    }\n",
       "\n",
       "    .dataframe thead th {\n",
       "        text-align: right;\n",
       "    }\n",
       "</style>\n",
       "<table border=\"1\" class=\"dataframe\">\n",
       "  <thead>\n",
       "    <tr style=\"text-align: right;\">\n",
       "      <th></th>\n",
       "      <th>id</th>\n",
       "      <th>in_degree</th>\n",
       "      <th>out_degree</th>\n",
       "      <th>Name</th>\n",
       "    </tr>\n",
       "  </thead>\n",
       "  <tbody>\n",
       "    <tr>\n",
       "      <th>5085</th>\n",
       "      <td>8417</td>\n",
       "      <td>0</td>\n",
       "      <td>2</td>\n",
       "      <td>Emery Molyneux</td>\n",
       "    </tr>\n",
       "  </tbody>\n",
       "</table>\n",
       "</div>"
      ],
      "text/plain": [
       "        id  in_degree  out_degree            Name\n",
       "5085  8417          0           2  Emery Molyneux"
      ]
     },
     "execution_count": 29,
     "metadata": {},
     "output_type": "execute_result"
    }
   ],
   "source": [
    "letters_degree_names[letters_degree_names['Name'] == 'Emery Molyneux']"
   ]
  },
  {
   "cell_type": "code",
   "execution_count": 30,
   "id": "852716fb-6fd7-40f5-b0d5-78332861cb2c",
   "metadata": {},
   "outputs": [
    {
     "data": {
      "text/plain": [
       "8417"
      ]
     },
     "execution_count": 30,
     "metadata": {},
     "output_type": "execute_result"
    }
   ],
   "source": [
    "emery_id = letters_degree_names[letters_degree_names['Name'] == 'Emery Molyneux']['id'].iloc[0]\n",
    "emery_id"
   ]
  },
  {
   "cell_type": "code",
   "execution_count": 31,
   "id": "6bc1eda7-a6e8-426a-8747-87d81ae47bcf",
   "metadata": {},
   "outputs": [
    {
     "data": {
      "text/html": [
       "<div>\n",
       "<style scoped>\n",
       "    .dataframe tbody tr th:only-of-type {\n",
       "        vertical-align: middle;\n",
       "    }\n",
       "\n",
       "    .dataframe tbody tr th {\n",
       "        vertical-align: top;\n",
       "    }\n",
       "\n",
       "    .dataframe thead th {\n",
       "        text-align: right;\n",
       "    }\n",
       "</style>\n",
       "<table border=\"1\" class=\"dataframe\">\n",
       "  <thead>\n",
       "    <tr style=\"text-align: right;\">\n",
       "      <th></th>\n",
       "      <th>id</th>\n",
       "      <th>in_degree</th>\n",
       "      <th>out_degree</th>\n",
       "      <th>Name</th>\n",
       "    </tr>\n",
       "  </thead>\n",
       "  <tbody>\n",
       "    <tr>\n",
       "      <th>282</th>\n",
       "      <td>6113</td>\n",
       "      <td>39</td>\n",
       "      <td>96</td>\n",
       "      <td>Desiderius Erasmus</td>\n",
       "    </tr>\n",
       "  </tbody>\n",
       "</table>\n",
       "</div>"
      ],
      "text/plain": [
       "       id  in_degree  out_degree                Name\n",
       "282  6113         39          96  Desiderius Erasmus"
      ]
     },
     "execution_count": 31,
     "metadata": {},
     "output_type": "execute_result"
    }
   ],
   "source": [
    "letters_degree_names[letters_degree_names['Name'] == 'Desiderius Erasmus']"
   ]
  },
  {
   "cell_type": "code",
   "execution_count": 32,
   "id": "8241b499-a6aa-4ec0-9775-961ddc331278",
   "metadata": {},
   "outputs": [
    {
     "data": {
      "text/plain": [
       "6113"
      ]
     },
     "execution_count": 32,
     "metadata": {},
     "output_type": "execute_result"
    }
   ],
   "source": [
    "desiderius_id = letters_degree_names[letters_degree_names['Name'] == 'Desiderius Erasmus']['id'].iloc[0]\n",
    "desiderius_id"
   ]
  },
  {
   "cell_type": "code",
   "execution_count": 33,
   "id": "c9ad943d-e786-4912-9776-b841d174db67",
   "metadata": {},
   "outputs": [],
   "source": [
    "#dictionary where the values are the clustering coefficient of all nodes in our network and the keys are the ids of the nodes\n",
    "cc_all = nx.clustering(letters_network_directed)"
   ]
  },
  {
   "cell_type": "code",
   "execution_count": 34,
   "id": "21b08092-8234-446e-8d18-93465ae514d5",
   "metadata": {},
   "outputs": [],
   "source": [
    "#Dictionary containing ids and eigenvector centrality of each of our nodes\n",
    "ev_centrality_all = nx.eigenvector_centrality(letters_network_directed)"
   ]
  },
  {
   "cell_type": "code",
   "execution_count": 35,
   "id": "62dad77c-f0e3-49a8-b70b-de323ba76d65",
   "metadata": {},
   "outputs": [
    {
     "data": {
      "text/plain": [
       "0.007248701306790577"
      ]
     },
     "execution_count": 35,
     "metadata": {},
     "output_type": "execute_result"
    }
   ],
   "source": [
    "#clustering coefficient of an individual\n",
    "henry_cc = cc_all[henry_id]\n",
    "henry_cc"
   ]
  },
  {
   "cell_type": "code",
   "execution_count": 36,
   "id": "0900bf10-6289-44dd-8f7a-0d0994a91cc6",
   "metadata": {},
   "outputs": [
    {
     "data": {
      "text/plain": [
       "0.08961102002782177"
      ]
     },
     "execution_count": 36,
     "metadata": {},
     "output_type": "execute_result"
    }
   ],
   "source": [
    "#eigenvector centrality of an individual\n",
    "henry_ev_centrality = ev_centrality_all[henry_id]\n",
    "henry_ev_centrality"
   ]
  },
  {
   "cell_type": "code",
   "execution_count": 37,
   "id": "952872af-5685-49b3-9447-6ac83919f18a",
   "metadata": {},
   "outputs": [
    {
     "data": {
      "text/plain": [
       "0.11689691817215728"
      ]
     },
     "execution_count": 37,
     "metadata": {},
     "output_type": "execute_result"
    }
   ],
   "source": [
    "katharine_cc = cc_all[katharine_id]\n",
    "katharine_cc"
   ]
  },
  {
   "cell_type": "code",
   "execution_count": 38,
   "id": "af6f1a05-863b-453e-ab76-ee0cbe0e0895",
   "metadata": {},
   "outputs": [
    {
     "data": {
      "text/plain": [
       "0.004076069220006484"
      ]
     },
     "execution_count": 38,
     "metadata": {},
     "output_type": "execute_result"
    }
   ],
   "source": [
    "katharine_ev_centrality = ev_centrality_all[katharine_id]\n",
    "katharine_ev_centrality"
   ]
  },
  {
   "cell_type": "code",
   "execution_count": 39,
   "id": "d9558e15-287a-4171-9e5b-28315cbb9a2b",
   "metadata": {},
   "outputs": [
    {
     "data": {
      "text/plain": [
       "0.0013874739561082375"
      ]
     },
     "execution_count": 39,
     "metadata": {},
     "output_type": "execute_result"
    }
   ],
   "source": [
    "thomas_cc = cc_all[thomas_id]\n",
    "thomas_cc"
   ]
  },
  {
   "cell_type": "code",
   "execution_count": 40,
   "id": "cb7417ef-b48e-4b1b-9f57-72936a881ec5",
   "metadata": {},
   "outputs": [
    {
     "data": {
      "text/plain": [
       "0.08399252390052572"
      ]
     },
     "execution_count": 40,
     "metadata": {},
     "output_type": "execute_result"
    }
   ],
   "source": [
    "thomas_ev_centrality = ev_centrality_all[thomas_id]\n",
    "thomas_ev_centrality"
   ]
  },
  {
   "cell_type": "code",
   "execution_count": 41,
   "id": "0bdc1aae-3bf3-4214-804a-0b81e1911963",
   "metadata": {},
   "outputs": [
    {
     "data": {
      "text/plain": [
       "1.0"
      ]
     },
     "execution_count": 41,
     "metadata": {},
     "output_type": "execute_result"
    }
   ],
   "source": [
    "emery_cc = cc_all[emery_id]\n",
    "emery_cc"
   ]
  },
  {
   "cell_type": "code",
   "execution_count": 42,
   "id": "57bb62a5-c439-4315-b02b-fc6bc9c1fbf8",
   "metadata": {},
   "outputs": [
    {
     "data": {
      "text/plain": [
       "9.418064404341942e-32"
      ]
     },
     "execution_count": 42,
     "metadata": {},
     "output_type": "execute_result"
    }
   ],
   "source": [
    "emery_ev_centrality = ev_centrality_all[emery_id]\n",
    "emery_ev_centrality"
   ]
  },
  {
   "cell_type": "code",
   "execution_count": 43,
   "id": "05401680-f04c-470f-b516-2b7055c9787c",
   "metadata": {},
   "outputs": [
    {
     "data": {
      "text/plain": [
       "0.022069424420538983"
      ]
     },
     "execution_count": 43,
     "metadata": {},
     "output_type": "execute_result"
    }
   ],
   "source": [
    "desiderius_cc = cc_all[desiderius_id]\n",
    "desiderius_cc"
   ]
  },
  {
   "cell_type": "code",
   "execution_count": 44,
   "id": "d0a3d006-34ad-4820-9f42-a4153585cb37",
   "metadata": {},
   "outputs": [
    {
     "data": {
      "text/plain": [
       "0.004448673389188995"
      ]
     },
     "execution_count": 44,
     "metadata": {},
     "output_type": "execute_result"
    }
   ],
   "source": [
    "desiderius_ev_centrality = ev_centrality_all[desiderius_id]\n",
    "desiderius_ev_centrality"
   ]
  }
 ],
 "metadata": {
  "kernelspec": {
   "display_name": "Python 3 (ipykernel)",
   "language": "python",
   "name": "python3"
  },
  "language_info": {
   "codemirror_mode": {
    "name": "ipython",
    "version": 3
   },
   "file_extension": ".py",
   "mimetype": "text/x-python",
   "name": "python",
   "nbconvert_exporter": "python",
   "pygments_lexer": "ipython3",
   "version": "3.11.10"
  }
 },
 "nbformat": 4,
 "nbformat_minor": 5
}
